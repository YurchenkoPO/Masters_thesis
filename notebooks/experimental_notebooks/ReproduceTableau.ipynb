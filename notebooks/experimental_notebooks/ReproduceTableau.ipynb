{
 "cells": [
  {
   "cell_type": "code",
   "execution_count": 2,
   "id": "3fdc3466-605e-4c7a-866c-2cff93dd1d05",
   "metadata": {},
   "outputs": [
    {
     "data": {
      "text/html": [
       "<style>.container { width:75% !important; }</style>"
      ],
      "text/plain": [
       "<IPython.core.display.HTML object>"
      ]
     },
     "metadata": {},
     "output_type": "display_data"
    }
   ],
   "source": [
    "import pandas as pd\n",
    "pd.options.plotting.backend = \"plotly\"\n",
    "from IPython.core.display import display, HTML\n",
    "display(HTML(\"<style>.container { width:75% !important; }</style>\"))\n",
    "import dask.dataframe as dd\n",
    "import pandas as pd\n",
    "import datetime\n",
    "import matplotlib.pyplot as plt\n",
    "import seaborn as sns\n",
    "pd.set_option('display.max_columns', None)\n",
    "from dask.diagnostics import ProgressBar\n",
    "ProgressBar().register()\n",
    "import dask.multiprocessing\n",
    "dask.config.set(scheduler='threads')\n",
    "from tqdm.notebook import tqdm\n",
    "import plotly.graph_objects as go "
   ]
  },
  {
   "cell_type": "code",
   "execution_count": 3,
   "id": "9b6e6fee-d8ef-48ef-8236-787327e60514",
   "metadata": {},
   "outputs": [],
   "source": [
    "import yaml\n",
    "import base64\n",
    "import os\n",
    "cred = yaml.load(base64.b64decode(open('/home/jovyan/.secrets/tlinc-dremio.yaml.b64','r').read()),Loader=yaml.BaseLoader)\n",
    "os.environ.update(cred)\n",
    "cred = yaml.load(base64.b64decode(open('/home/jovyan/.secrets/tlinc-db-retail.yaml.b64','r').read()),Loader=yaml.BaseLoader)\n",
    "os.environ.update({k:str(v) for k,v in cred.items()})"
   ]
  },
  {
   "cell_type": "code",
   "execution_count": 4,
   "id": "2bb223fb-7037-4d5e-9827-29751ab628af",
   "metadata": {},
   "outputs": [],
   "source": [
    "import pandas as pd\n",
    "import numpy as np\n",
    "from tl_datasource.dremio import get_async_dremio_connection, read_sql_to_pandas_aioodbc"
   ]
  },
  {
   "cell_type": "code",
   "execution_count": 17,
   "id": "1745574a-85c4-48ca-904e-54ad72ad6db5",
   "metadata": {},
   "outputs": [],
   "source": [
    "async with get_async_dremio_connection() as conn:\n",
    "    query = f'''\n",
    "        SELECT date_trunc ('DAY' , cast(creation_date as timestamp)) as trx_day, product_type,\n",
    "        count(*) as product_count,\n",
    "        sum(price) as price FROM \"sp_IC\".TR.\"stat_ancillaries_total\"\n",
    "        where date_trunc ('DAY' , cast(creation_date as timestamp)) between '2021-10-12' and '2021-11-12'\n",
    "        group by date_trunc ('DAY' , cast(creation_date as timestamp)), product_type\n",
    "    '''\n",
    "    df = await  read_sql_to_pandas_aioodbc(query, conn)"
   ]
  },
  {
   "cell_type": "code",
   "execution_count": 18,
   "id": "af184666-674f-4f5d-a2b1-86f587f74a40",
   "metadata": {},
   "outputs": [
    {
     "data": {
      "text/plain": [
       "array(['upgrade', 'car', 'gift_certificate', 'free_refund', 'lounge',\n",
       "       'seat', 'extra_seat', 'excursion', 'hotel', 'pet', 'meal',\n",
       "       'flight_change', 'foodbox', 'prepay', 'sms', 'fast_track', 'bag',\n",
       "       'insurance', 'aeroexpress', 'auto_checkin', 'transfer'],\n",
       "      dtype=object)"
      ]
     },
     "execution_count": 18,
     "metadata": {},
     "output_type": "execute_result"
    }
   ],
   "source": [
    "df.product_type.unique()"
   ]
  },
  {
   "cell_type": "code",
   "execution_count": 19,
   "id": "e09ae4c2-e209-474a-a9ff-3d1610b3b028",
   "metadata": {},
   "outputs": [],
   "source": [
    "df = df[df.product_type.isin (['bag', 'free_refund', 'seat', 'extra_space', 'pet', 'meal', 'gift_certificate', 'lounge', 'prepay', 'extra_seat', 'auto_checkin', 'foodbox', 'lounge TM', 'fast_track'])]"
   ]
  },
  {
   "cell_type": "code",
   "execution_count": 20,
   "id": "94723dc1-f352-4014-b322-9a482810302e",
   "metadata": {},
   "outputs": [
    {
     "data": {
      "application/vnd.plotly.v1+json": {
       "config": {
        "plotlyServerURL": "https://plot.ly"
       },
       "data": [
        {
         "alignmentgroup": "True",
         "hovertemplate": "product_type=gift_certificate<br>trx_day=%{x}<br>product_count=%{y}<extra></extra>",
         "legendgroup": "gift_certificate",
         "marker": {
          "color": "#636efa",
          "pattern": {
           "shape": ""
          }
         },
         "name": "gift_certificate",
         "offsetgroup": "gift_certificate",
         "orientation": "v",
         "showlegend": true,
         "textposition": "auto",
         "type": "bar",
         "x": [
          "2021-10-23T00:00:00",
          "2021-11-03T00:00:00",
          "2021-10-21T00:00:00",
          "2021-10-28T00:00:00",
          "2021-11-08T00:00:00",
          "2021-11-09T00:00:00",
          "2021-10-24T00:00:00",
          "2021-10-19T00:00:00",
          "2021-11-01T00:00:00",
          "2021-11-05T00:00:00",
          "2021-11-06T00:00:00",
          "2021-10-13T00:00:00",
          "2021-11-07T00:00:00",
          "2021-10-16T00:00:00",
          "2021-10-29T00:00:00",
          "2021-10-12T00:00:00",
          "2021-10-14T00:00:00",
          "2021-10-22T00:00:00",
          "2021-10-30T00:00:00",
          "2021-10-26T00:00:00",
          "2021-10-27T00:00:00",
          "2021-11-04T00:00:00",
          "2021-10-18T00:00:00",
          "2021-11-11T00:00:00",
          "2021-11-02T00:00:00",
          "2021-10-17T00:00:00",
          "2021-11-10T00:00:00",
          "2021-10-31T00:00:00",
          "2021-10-20T00:00:00",
          "2021-11-12T00:00:00",
          "2021-10-15T00:00:00",
          "2021-10-25T00:00:00"
         ],
         "xaxis": "x",
         "y": [
          11,
          1,
          11,
          7,
          7,
          11,
          6,
          2,
          10,
          4,
          4,
          6,
          4,
          3,
          15,
          15,
          6,
          8,
          7,
          3,
          5,
          3,
          5,
          6,
          10,
          3,
          8,
          4,
          13,
          1,
          6,
          12
         ],
         "yaxis": "y"
        },
        {
         "alignmentgroup": "True",
         "hovertemplate": "product_type=free_refund<br>trx_day=%{x}<br>product_count=%{y}<extra></extra>",
         "legendgroup": "free_refund",
         "marker": {
          "color": "#EF553B",
          "pattern": {
           "shape": ""
          }
         },
         "name": "free_refund",
         "offsetgroup": "free_refund",
         "orientation": "v",
         "showlegend": true,
         "textposition": "auto",
         "type": "bar",
         "x": [
          "2021-10-29T00:00:00",
          "2021-10-16T00:00:00",
          "2021-11-04T00:00:00",
          "2021-10-27T00:00:00",
          "2021-11-05T00:00:00",
          "2021-10-31T00:00:00",
          "2021-10-15T00:00:00",
          "2021-11-01T00:00:00",
          "2021-10-19T00:00:00",
          "2021-10-28T00:00:00",
          "2021-10-25T00:00:00",
          "2021-10-13T00:00:00",
          "2021-10-17T00:00:00",
          "2021-10-14T00:00:00",
          "2021-10-12T00:00:00",
          "2021-11-02T00:00:00",
          "2021-10-20T00:00:00",
          "2021-11-09T00:00:00",
          "2021-10-23T00:00:00",
          "2021-10-22T00:00:00",
          "2021-11-11T00:00:00",
          "2021-11-07T00:00:00",
          "2021-11-12T00:00:00",
          "2021-10-30T00:00:00",
          "2021-10-24T00:00:00",
          "2021-10-21T00:00:00",
          "2021-11-06T00:00:00",
          "2021-10-18T00:00:00",
          "2021-10-26T00:00:00",
          "2021-11-10T00:00:00",
          "2021-11-08T00:00:00",
          "2021-11-03T00:00:00"
         ],
         "xaxis": "x",
         "y": [
          1014,
          984,
          750,
          1048,
          666,
          743,
          1135,
          986,
          1254,
          1078,
          1037,
          1143,
          994,
          1269,
          1066,
          1147,
          1323,
          2655,
          834,
          1185,
          2807,
          853,
          686,
          871,
          881,
          1383,
          828,
          1205,
          1176,
          2680,
          1006,
          1107
         ],
         "yaxis": "y"
        },
        {
         "alignmentgroup": "True",
         "hovertemplate": "product_type=lounge<br>trx_day=%{x}<br>product_count=%{y}<extra></extra>",
         "legendgroup": "lounge",
         "marker": {
          "color": "#00cc96",
          "pattern": {
           "shape": ""
          }
         },
         "name": "lounge",
         "offsetgroup": "lounge",
         "orientation": "v",
         "showlegend": true,
         "textposition": "auto",
         "type": "bar",
         "x": [
          "2021-10-18T00:00:00",
          "2021-10-17T00:00:00",
          "2021-11-12T00:00:00",
          "2021-11-11T00:00:00",
          "2021-11-08T00:00:00",
          "2021-10-23T00:00:00",
          "2021-10-12T00:00:00",
          "2021-11-01T00:00:00",
          "2021-11-07T00:00:00",
          "2021-10-31T00:00:00",
          "2021-10-26T00:00:00",
          "2021-10-22T00:00:00",
          "2021-11-03T00:00:00",
          "2021-11-10T00:00:00",
          "2021-10-13T00:00:00",
          "2021-10-15T00:00:00",
          "2021-10-16T00:00:00",
          "2021-10-21T00:00:00",
          "2021-10-30T00:00:00",
          "2021-10-25T00:00:00",
          "2021-10-27T00:00:00",
          "2021-11-05T00:00:00",
          "2021-10-19T00:00:00",
          "2021-10-20T00:00:00",
          "2021-11-04T00:00:00",
          "2021-11-09T00:00:00",
          "2021-10-24T00:00:00",
          "2021-10-29T00:00:00",
          "2021-10-14T00:00:00",
          "2021-10-28T00:00:00",
          "2021-11-02T00:00:00",
          "2021-11-06T00:00:00"
         ],
         "xaxis": "x",
         "y": [
          68,
          65,
          28,
          76,
          45,
          59,
          68,
          61,
          66,
          50,
          50,
          69,
          72,
          63,
          54,
          75,
          52,
          74,
          52,
          62,
          62,
          63,
          49,
          63,
          48,
          80,
          66,
          79,
          73,
          87,
          71,
          54
         ],
         "yaxis": "y"
        },
        {
         "alignmentgroup": "True",
         "hovertemplate": "product_type=seat<br>trx_day=%{x}<br>product_count=%{y}<extra></extra>",
         "legendgroup": "seat",
         "marker": {
          "color": "#ab63fa",
          "pattern": {
           "shape": ""
          }
         },
         "name": "seat",
         "offsetgroup": "seat",
         "orientation": "v",
         "showlegend": true,
         "textposition": "auto",
         "type": "bar",
         "x": [
          "2021-11-08T00:00:00",
          "2021-10-13T00:00:00",
          "2021-11-01T00:00:00",
          "2021-10-17T00:00:00",
          "2021-10-31T00:00:00",
          "2021-10-29T00:00:00",
          "2021-11-12T00:00:00",
          "2021-10-22T00:00:00",
          "2021-10-25T00:00:00",
          "2021-11-11T00:00:00",
          "2021-11-04T00:00:00",
          "2021-11-06T00:00:00",
          "2021-11-10T00:00:00",
          "2021-11-05T00:00:00",
          "2021-10-24T00:00:00",
          "2021-11-03T00:00:00",
          "2021-10-20T00:00:00",
          "2021-10-30T00:00:00",
          "2021-10-18T00:00:00",
          "2021-10-15T00:00:00",
          "2021-11-09T00:00:00",
          "2021-10-26T00:00:00",
          "2021-10-19T00:00:00",
          "2021-10-21T00:00:00",
          "2021-10-23T00:00:00",
          "2021-10-12T00:00:00",
          "2021-10-16T00:00:00",
          "2021-11-02T00:00:00",
          "2021-11-07T00:00:00",
          "2021-10-28T00:00:00",
          "2021-10-14T00:00:00",
          "2021-10-27T00:00:00"
         ],
         "xaxis": "x",
         "y": [
          15471,
          18922,
          14868,
          15285,
          11608,
          14743,
          9615,
          17802,
          16578,
          36366,
          13522,
          11547,
          32686,
          12264,
          13002,
          16040,
          19620,
          12729,
          20435,
          17305,
          30252,
          15000,
          19364,
          19290,
          13440,
          18886,
          14453,
          15686,
          11827,
          15099,
          19120,
          14653
         ],
         "yaxis": "y"
        },
        {
         "alignmentgroup": "True",
         "hovertemplate": "product_type=extra_seat<br>trx_day=%{x}<br>product_count=%{y}<extra></extra>",
         "legendgroup": "extra_seat",
         "marker": {
          "color": "#FFA15A",
          "pattern": {
           "shape": ""
          }
         },
         "name": "extra_seat",
         "offsetgroup": "extra_seat",
         "orientation": "v",
         "showlegend": true,
         "textposition": "auto",
         "type": "bar",
         "x": [
          "2021-10-14T00:00:00",
          "2021-10-23T00:00:00",
          "2021-10-21T00:00:00",
          "2021-10-26T00:00:00",
          "2021-11-09T00:00:00",
          "2021-10-18T00:00:00",
          "2021-11-03T00:00:00",
          "2021-11-05T00:00:00",
          "2021-11-08T00:00:00",
          "2021-11-11T00:00:00",
          "2021-10-16T00:00:00",
          "2021-10-15T00:00:00",
          "2021-10-13T00:00:00",
          "2021-10-20T00:00:00",
          "2021-10-22T00:00:00",
          "2021-10-25T00:00:00",
          "2021-11-02T00:00:00",
          "2021-11-10T00:00:00",
          "2021-10-27T00:00:00",
          "2021-10-30T00:00:00",
          "2021-10-19T00:00:00",
          "2021-10-24T00:00:00",
          "2021-10-12T00:00:00",
          "2021-11-04T00:00:00",
          "2021-10-28T00:00:00",
          "2021-11-01T00:00:00"
         ],
         "xaxis": "x",
         "y": [
          8,
          4,
          5,
          7,
          1,
          3,
          1,
          1,
          11,
          3,
          5,
          6,
          5,
          2,
          3,
          10,
          2,
          4,
          5,
          1,
          6,
          2,
          4,
          5,
          2,
          4
         ],
         "yaxis": "y"
        },
        {
         "alignmentgroup": "True",
         "hovertemplate": "product_type=pet<br>trx_day=%{x}<br>product_count=%{y}<extra></extra>",
         "legendgroup": "pet",
         "marker": {
          "color": "#19d3f3",
          "pattern": {
           "shape": ""
          }
         },
         "name": "pet",
         "offsetgroup": "pet",
         "orientation": "v",
         "showlegend": true,
         "textposition": "auto",
         "type": "bar",
         "x": [
          "2021-10-21T00:00:00",
          "2021-11-11T00:00:00",
          "2021-10-14T00:00:00",
          "2021-10-24T00:00:00",
          "2021-10-29T00:00:00",
          "2021-10-18T00:00:00",
          "2021-10-30T00:00:00",
          "2021-10-19T00:00:00",
          "2021-11-01T00:00:00",
          "2021-10-20T00:00:00",
          "2021-11-10T00:00:00",
          "2021-11-04T00:00:00",
          "2021-11-05T00:00:00",
          "2021-10-26T00:00:00",
          "2021-10-15T00:00:00",
          "2021-10-31T00:00:00",
          "2021-11-03T00:00:00",
          "2021-10-23T00:00:00",
          "2021-11-07T00:00:00",
          "2021-10-16T00:00:00",
          "2021-10-17T00:00:00",
          "2021-10-25T00:00:00",
          "2021-10-28T00:00:00",
          "2021-10-12T00:00:00",
          "2021-11-12T00:00:00",
          "2021-10-27T00:00:00",
          "2021-11-09T00:00:00",
          "2021-10-13T00:00:00",
          "2021-11-02T00:00:00",
          "2021-11-08T00:00:00",
          "2021-10-22T00:00:00",
          "2021-11-06T00:00:00"
         ],
         "xaxis": "x",
         "y": [
          260,
          483,
          206,
          194,
          201,
          264,
          163,
          251,
          228,
          268,
          444,
          181,
          170,
          203,
          221,
          141,
          191,
          169,
          160,
          206,
          180,
          236,
          180,
          248,
          140,
          225,
          505,
          267,
          189,
          195,
          182,
          146
         ],
         "yaxis": "y"
        },
        {
         "alignmentgroup": "True",
         "hovertemplate": "product_type=meal<br>trx_day=%{x}<br>product_count=%{y}<extra></extra>",
         "legendgroup": "meal",
         "marker": {
          "color": "#FF6692",
          "pattern": {
           "shape": ""
          }
         },
         "name": "meal",
         "offsetgroup": "meal",
         "orientation": "v",
         "showlegend": true,
         "textposition": "auto",
         "type": "bar",
         "x": [
          "2021-11-08T00:00:00",
          "2021-10-22T00:00:00",
          "2021-11-03T00:00:00",
          "2021-10-30T00:00:00",
          "2021-10-27T00:00:00",
          "2021-10-20T00:00:00",
          "2021-10-12T00:00:00",
          "2021-10-16T00:00:00",
          "2021-11-07T00:00:00",
          "2021-11-01T00:00:00",
          "2021-11-12T00:00:00",
          "2021-10-14T00:00:00",
          "2021-10-25T00:00:00",
          "2021-10-29T00:00:00",
          "2021-11-09T00:00:00",
          "2021-11-02T00:00:00",
          "2021-11-11T00:00:00",
          "2021-11-06T00:00:00",
          "2021-11-10T00:00:00",
          "2021-10-19T00:00:00",
          "2021-10-18T00:00:00",
          "2021-10-17T00:00:00",
          "2021-10-15T00:00:00",
          "2021-10-23T00:00:00",
          "2021-10-21T00:00:00",
          "2021-10-28T00:00:00",
          "2021-10-13T00:00:00",
          "2021-10-26T00:00:00",
          "2021-10-24T00:00:00",
          "2021-11-04T00:00:00",
          "2021-11-05T00:00:00",
          "2021-10-31T00:00:00"
         ],
         "xaxis": "x",
         "y": [
          1267,
          1554,
          1453,
          1201,
          1348,
          1598,
          1482,
          1123,
          1043,
          1347,
          554,
          1603,
          1262,
          1489,
          1915,
          1362,
          2376,
          1211,
          2292,
          1601,
          1655,
          1294,
          1516,
          1133,
          1663,
          1387,
          1514,
          1209,
          1167,
          1314,
          1188,
          1095
         ],
         "yaxis": "y"
        },
        {
         "alignmentgroup": "True",
         "hovertemplate": "product_type=foodbox<br>trx_day=%{x}<br>product_count=%{y}<extra></extra>",
         "legendgroup": "foodbox",
         "marker": {
          "color": "#B6E880",
          "pattern": {
           "shape": ""
          }
         },
         "name": "foodbox",
         "offsetgroup": "foodbox",
         "orientation": "v",
         "showlegend": true,
         "textposition": "auto",
         "type": "bar",
         "x": [
          "2021-10-26T00:00:00",
          "2021-10-14T00:00:00",
          "2021-11-07T00:00:00",
          "2021-11-08T00:00:00",
          "2021-11-09T00:00:00",
          "2021-11-12T00:00:00",
          "2021-10-12T00:00:00",
          "2021-10-15T00:00:00",
          "2021-10-23T00:00:00",
          "2021-11-10T00:00:00",
          "2021-10-21T00:00:00",
          "2021-11-03T00:00:00",
          "2021-11-01T00:00:00",
          "2021-10-13T00:00:00",
          "2021-10-17T00:00:00",
          "2021-10-18T00:00:00",
          "2021-10-19T00:00:00",
          "2021-10-27T00:00:00",
          "2021-10-31T00:00:00",
          "2021-11-04T00:00:00",
          "2021-11-05T00:00:00",
          "2021-10-29T00:00:00",
          "2021-10-16T00:00:00",
          "2021-10-24T00:00:00",
          "2021-10-30T00:00:00",
          "2021-10-28T00:00:00",
          "2021-10-25T00:00:00",
          "2021-11-02T00:00:00",
          "2021-11-06T00:00:00",
          "2021-10-22T00:00:00",
          "2021-11-11T00:00:00",
          "2021-10-20T00:00:00"
         ],
         "xaxis": "x",
         "y": [
          30,
          28,
          16,
          24,
          32,
          8,
          38,
          31,
          27,
          32,
          39,
          34,
          22,
          36,
          22,
          22,
          29,
          40,
          32,
          36,
          17,
          35,
          26,
          22,
          21,
          39,
          17,
          55,
          39,
          25,
          38,
          40
         ],
         "yaxis": "y"
        },
        {
         "alignmentgroup": "True",
         "hovertemplate": "product_type=prepay<br>trx_day=%{x}<br>product_count=%{y}<extra></extra>",
         "legendgroup": "prepay",
         "marker": {
          "color": "#FF97FF",
          "pattern": {
           "shape": ""
          }
         },
         "name": "prepay",
         "offsetgroup": "prepay",
         "orientation": "v",
         "showlegend": true,
         "textposition": "auto",
         "type": "bar",
         "x": [
          "2021-10-21T00:00:00",
          "2021-10-30T00:00:00",
          "2021-10-13T00:00:00",
          "2021-10-22T00:00:00",
          "2021-11-10T00:00:00",
          "2021-10-31T00:00:00",
          "2021-10-12T00:00:00",
          "2021-11-12T00:00:00",
          "2021-11-06T00:00:00",
          "2021-10-28T00:00:00",
          "2021-10-20T00:00:00",
          "2021-10-15T00:00:00",
          "2021-11-11T00:00:00",
          "2021-10-27T00:00:00",
          "2021-10-24T00:00:00",
          "2021-11-03T00:00:00",
          "2021-10-16T00:00:00",
          "2021-10-14T00:00:00",
          "2021-11-01T00:00:00",
          "2021-10-17T00:00:00",
          "2021-10-23T00:00:00",
          "2021-11-08T00:00:00",
          "2021-11-02T00:00:00",
          "2021-10-26T00:00:00",
          "2021-11-04T00:00:00",
          "2021-10-25T00:00:00",
          "2021-10-18T00:00:00",
          "2021-10-29T00:00:00",
          "2021-11-09T00:00:00",
          "2021-11-07T00:00:00",
          "2021-11-05T00:00:00",
          "2021-10-19T00:00:00"
         ],
         "xaxis": "x",
         "y": [
          319,
          116,
          180,
          213,
          584,
          108,
          210,
          163,
          149,
          135,
          394,
          193,
          614,
          139,
          152,
          112,
          157,
          249,
          159,
          181,
          168,
          193,
          173,
          211,
          110,
          208,
          222,
          163,
          810,
          149,
          138,
          330
         ],
         "yaxis": "y"
        },
        {
         "alignmentgroup": "True",
         "hovertemplate": "product_type=fast_track<br>trx_day=%{x}<br>product_count=%{y}<extra></extra>",
         "legendgroup": "fast_track",
         "marker": {
          "color": "#FECB52",
          "pattern": {
           "shape": ""
          }
         },
         "name": "fast_track",
         "offsetgroup": "fast_track",
         "orientation": "v",
         "showlegend": true,
         "textposition": "auto",
         "type": "bar",
         "x": [
          "2021-10-19T00:00:00",
          "2021-10-23T00:00:00",
          "2021-10-24T00:00:00",
          "2021-10-21T00:00:00",
          "2021-11-05T00:00:00",
          "2021-10-26T00:00:00",
          "2021-11-02T00:00:00",
          "2021-10-20T00:00:00",
          "2021-10-12T00:00:00",
          "2021-11-04T00:00:00",
          "2021-10-18T00:00:00",
          "2021-11-06T00:00:00",
          "2021-10-13T00:00:00"
         ],
         "xaxis": "x",
         "y": [
          1,
          3,
          2,
          1,
          1,
          1,
          1,
          2,
          1,
          3,
          2,
          1,
          2
         ],
         "yaxis": "y"
        },
        {
         "alignmentgroup": "True",
         "hovertemplate": "product_type=bag<br>trx_day=%{x}<br>product_count=%{y}<extra></extra>",
         "legendgroup": "bag",
         "marker": {
          "color": "#636efa",
          "pattern": {
           "shape": ""
          }
         },
         "name": "bag",
         "offsetgroup": "bag",
         "orientation": "v",
         "showlegend": true,
         "textposition": "auto",
         "type": "bar",
         "x": [
          "2021-10-15T00:00:00",
          "2021-11-09T00:00:00",
          "2021-10-21T00:00:00",
          "2021-10-31T00:00:00",
          "2021-11-06T00:00:00",
          "2021-11-05T00:00:00",
          "2021-11-10T00:00:00",
          "2021-10-18T00:00:00",
          "2021-10-22T00:00:00",
          "2021-10-23T00:00:00",
          "2021-10-14T00:00:00",
          "2021-10-24T00:00:00",
          "2021-10-30T00:00:00",
          "2021-10-20T00:00:00",
          "2021-11-02T00:00:00",
          "2021-10-19T00:00:00",
          "2021-11-11T00:00:00",
          "2021-10-27T00:00:00",
          "2021-10-26T00:00:00",
          "2021-11-01T00:00:00",
          "2021-10-25T00:00:00",
          "2021-10-13T00:00:00",
          "2021-10-17T00:00:00",
          "2021-11-12T00:00:00",
          "2021-11-07T00:00:00",
          "2021-10-29T00:00:00",
          "2021-10-16T00:00:00",
          "2021-10-12T00:00:00",
          "2021-11-04T00:00:00",
          "2021-11-03T00:00:00",
          "2021-11-08T00:00:00",
          "2021-10-28T00:00:00"
         ],
         "xaxis": "x",
         "y": [
          2522,
          4168,
          2297,
          1590,
          1730,
          1861,
          4024,
          2735,
          2127,
          1692,
          2701,
          1733,
          1770,
          2341,
          1999,
          2273,
          4323,
          2134,
          1989,
          2193,
          2142,
          2933,
          2147,
          1207,
          1796,
          2170,
          2138,
          2552,
          2092,
          2018,
          2085,
          2098
         ],
         "yaxis": "y"
        },
        {
         "alignmentgroup": "True",
         "hovertemplate": "product_type=auto_checkin<br>trx_day=%{x}<br>product_count=%{y}<extra></extra>",
         "legendgroup": "auto_checkin",
         "marker": {
          "color": "#EF553B",
          "pattern": {
           "shape": ""
          }
         },
         "name": "auto_checkin",
         "offsetgroup": "auto_checkin",
         "orientation": "v",
         "showlegend": true,
         "textposition": "auto",
         "type": "bar",
         "x": [
          "2021-11-07T00:00:00",
          "2021-11-05T00:00:00",
          "2021-10-13T00:00:00",
          "2021-11-10T00:00:00",
          "2021-11-09T00:00:00",
          "2021-11-12T00:00:00",
          "2021-10-27T00:00:00",
          "2021-11-11T00:00:00",
          "2021-10-24T00:00:00",
          "2021-10-31T00:00:00",
          "2021-10-18T00:00:00",
          "2021-10-29T00:00:00",
          "2021-10-15T00:00:00",
          "2021-11-01T00:00:00",
          "2021-10-16T00:00:00",
          "2021-10-19T00:00:00",
          "2021-11-08T00:00:00",
          "2021-10-30T00:00:00",
          "2021-10-26T00:00:00",
          "2021-10-23T00:00:00",
          "2021-11-04T00:00:00",
          "2021-10-17T00:00:00",
          "2021-10-21T00:00:00",
          "2021-10-22T00:00:00",
          "2021-10-12T00:00:00",
          "2021-10-20T00:00:00",
          "2021-11-06T00:00:00",
          "2021-10-14T00:00:00",
          "2021-11-02T00:00:00",
          "2021-10-25T00:00:00",
          "2021-10-28T00:00:00",
          "2021-11-03T00:00:00"
         ],
         "xaxis": "x",
         "y": [
          188,
          161,
          280,
          379,
          376,
          100,
          234,
          438,
          189,
          128,
          320,
          227,
          301,
          172,
          243,
          273,
          217,
          164,
          172,
          195,
          148,
          206,
          266,
          223,
          265,
          329,
          128,
          333,
          243,
          206,
          242,
          237
         ],
         "yaxis": "y"
        }
       ],
       "layout": {
        "barmode": "relative",
        "height": 600,
        "legend": {
         "title": {
          "text": "product_type"
         },
         "tracegroupgap": 0
        },
        "margin": {
         "t": 60
        },
        "template": {
         "data": {
          "bar": [
           {
            "error_x": {
             "color": "#2a3f5f"
            },
            "error_y": {
             "color": "#2a3f5f"
            },
            "marker": {
             "line": {
              "color": "#E5ECF6",
              "width": 0.5
             },
             "pattern": {
              "fillmode": "overlay",
              "size": 10,
              "solidity": 0.2
             }
            },
            "type": "bar"
           }
          ],
          "barpolar": [
           {
            "marker": {
             "line": {
              "color": "#E5ECF6",
              "width": 0.5
             },
             "pattern": {
              "fillmode": "overlay",
              "size": 10,
              "solidity": 0.2
             }
            },
            "type": "barpolar"
           }
          ],
          "carpet": [
           {
            "aaxis": {
             "endlinecolor": "#2a3f5f",
             "gridcolor": "white",
             "linecolor": "white",
             "minorgridcolor": "white",
             "startlinecolor": "#2a3f5f"
            },
            "baxis": {
             "endlinecolor": "#2a3f5f",
             "gridcolor": "white",
             "linecolor": "white",
             "minorgridcolor": "white",
             "startlinecolor": "#2a3f5f"
            },
            "type": "carpet"
           }
          ],
          "choropleth": [
           {
            "colorbar": {
             "outlinewidth": 0,
             "ticks": ""
            },
            "type": "choropleth"
           }
          ],
          "contour": [
           {
            "colorbar": {
             "outlinewidth": 0,
             "ticks": ""
            },
            "colorscale": [
             [
              0,
              "#0d0887"
             ],
             [
              0.1111111111111111,
              "#46039f"
             ],
             [
              0.2222222222222222,
              "#7201a8"
             ],
             [
              0.3333333333333333,
              "#9c179e"
             ],
             [
              0.4444444444444444,
              "#bd3786"
             ],
             [
              0.5555555555555556,
              "#d8576b"
             ],
             [
              0.6666666666666666,
              "#ed7953"
             ],
             [
              0.7777777777777778,
              "#fb9f3a"
             ],
             [
              0.8888888888888888,
              "#fdca26"
             ],
             [
              1,
              "#f0f921"
             ]
            ],
            "type": "contour"
           }
          ],
          "contourcarpet": [
           {
            "colorbar": {
             "outlinewidth": 0,
             "ticks": ""
            },
            "type": "contourcarpet"
           }
          ],
          "heatmap": [
           {
            "colorbar": {
             "outlinewidth": 0,
             "ticks": ""
            },
            "colorscale": [
             [
              0,
              "#0d0887"
             ],
             [
              0.1111111111111111,
              "#46039f"
             ],
             [
              0.2222222222222222,
              "#7201a8"
             ],
             [
              0.3333333333333333,
              "#9c179e"
             ],
             [
              0.4444444444444444,
              "#bd3786"
             ],
             [
              0.5555555555555556,
              "#d8576b"
             ],
             [
              0.6666666666666666,
              "#ed7953"
             ],
             [
              0.7777777777777778,
              "#fb9f3a"
             ],
             [
              0.8888888888888888,
              "#fdca26"
             ],
             [
              1,
              "#f0f921"
             ]
            ],
            "type": "heatmap"
           }
          ],
          "heatmapgl": [
           {
            "colorbar": {
             "outlinewidth": 0,
             "ticks": ""
            },
            "colorscale": [
             [
              0,
              "#0d0887"
             ],
             [
              0.1111111111111111,
              "#46039f"
             ],
             [
              0.2222222222222222,
              "#7201a8"
             ],
             [
              0.3333333333333333,
              "#9c179e"
             ],
             [
              0.4444444444444444,
              "#bd3786"
             ],
             [
              0.5555555555555556,
              "#d8576b"
             ],
             [
              0.6666666666666666,
              "#ed7953"
             ],
             [
              0.7777777777777778,
              "#fb9f3a"
             ],
             [
              0.8888888888888888,
              "#fdca26"
             ],
             [
              1,
              "#f0f921"
             ]
            ],
            "type": "heatmapgl"
           }
          ],
          "histogram": [
           {
            "marker": {
             "pattern": {
              "fillmode": "overlay",
              "size": 10,
              "solidity": 0.2
             }
            },
            "type": "histogram"
           }
          ],
          "histogram2d": [
           {
            "colorbar": {
             "outlinewidth": 0,
             "ticks": ""
            },
            "colorscale": [
             [
              0,
              "#0d0887"
             ],
             [
              0.1111111111111111,
              "#46039f"
             ],
             [
              0.2222222222222222,
              "#7201a8"
             ],
             [
              0.3333333333333333,
              "#9c179e"
             ],
             [
              0.4444444444444444,
              "#bd3786"
             ],
             [
              0.5555555555555556,
              "#d8576b"
             ],
             [
              0.6666666666666666,
              "#ed7953"
             ],
             [
              0.7777777777777778,
              "#fb9f3a"
             ],
             [
              0.8888888888888888,
              "#fdca26"
             ],
             [
              1,
              "#f0f921"
             ]
            ],
            "type": "histogram2d"
           }
          ],
          "histogram2dcontour": [
           {
            "colorbar": {
             "outlinewidth": 0,
             "ticks": ""
            },
            "colorscale": [
             [
              0,
              "#0d0887"
             ],
             [
              0.1111111111111111,
              "#46039f"
             ],
             [
              0.2222222222222222,
              "#7201a8"
             ],
             [
              0.3333333333333333,
              "#9c179e"
             ],
             [
              0.4444444444444444,
              "#bd3786"
             ],
             [
              0.5555555555555556,
              "#d8576b"
             ],
             [
              0.6666666666666666,
              "#ed7953"
             ],
             [
              0.7777777777777778,
              "#fb9f3a"
             ],
             [
              0.8888888888888888,
              "#fdca26"
             ],
             [
              1,
              "#f0f921"
             ]
            ],
            "type": "histogram2dcontour"
           }
          ],
          "mesh3d": [
           {
            "colorbar": {
             "outlinewidth": 0,
             "ticks": ""
            },
            "type": "mesh3d"
           }
          ],
          "parcoords": [
           {
            "line": {
             "colorbar": {
              "outlinewidth": 0,
              "ticks": ""
             }
            },
            "type": "parcoords"
           }
          ],
          "pie": [
           {
            "automargin": true,
            "type": "pie"
           }
          ],
          "scatter": [
           {
            "marker": {
             "colorbar": {
              "outlinewidth": 0,
              "ticks": ""
             }
            },
            "type": "scatter"
           }
          ],
          "scatter3d": [
           {
            "line": {
             "colorbar": {
              "outlinewidth": 0,
              "ticks": ""
             }
            },
            "marker": {
             "colorbar": {
              "outlinewidth": 0,
              "ticks": ""
             }
            },
            "type": "scatter3d"
           }
          ],
          "scattercarpet": [
           {
            "marker": {
             "colorbar": {
              "outlinewidth": 0,
              "ticks": ""
             }
            },
            "type": "scattercarpet"
           }
          ],
          "scattergeo": [
           {
            "marker": {
             "colorbar": {
              "outlinewidth": 0,
              "ticks": ""
             }
            },
            "type": "scattergeo"
           }
          ],
          "scattergl": [
           {
            "marker": {
             "colorbar": {
              "outlinewidth": 0,
              "ticks": ""
             }
            },
            "type": "scattergl"
           }
          ],
          "scattermapbox": [
           {
            "marker": {
             "colorbar": {
              "outlinewidth": 0,
              "ticks": ""
             }
            },
            "type": "scattermapbox"
           }
          ],
          "scatterpolar": [
           {
            "marker": {
             "colorbar": {
              "outlinewidth": 0,
              "ticks": ""
             }
            },
            "type": "scatterpolar"
           }
          ],
          "scatterpolargl": [
           {
            "marker": {
             "colorbar": {
              "outlinewidth": 0,
              "ticks": ""
             }
            },
            "type": "scatterpolargl"
           }
          ],
          "scatterternary": [
           {
            "marker": {
             "colorbar": {
              "outlinewidth": 0,
              "ticks": ""
             }
            },
            "type": "scatterternary"
           }
          ],
          "surface": [
           {
            "colorbar": {
             "outlinewidth": 0,
             "ticks": ""
            },
            "colorscale": [
             [
              0,
              "#0d0887"
             ],
             [
              0.1111111111111111,
              "#46039f"
             ],
             [
              0.2222222222222222,
              "#7201a8"
             ],
             [
              0.3333333333333333,
              "#9c179e"
             ],
             [
              0.4444444444444444,
              "#bd3786"
             ],
             [
              0.5555555555555556,
              "#d8576b"
             ],
             [
              0.6666666666666666,
              "#ed7953"
             ],
             [
              0.7777777777777778,
              "#fb9f3a"
             ],
             [
              0.8888888888888888,
              "#fdca26"
             ],
             [
              1,
              "#f0f921"
             ]
            ],
            "type": "surface"
           }
          ],
          "table": [
           {
            "cells": {
             "fill": {
              "color": "#EBF0F8"
             },
             "line": {
              "color": "white"
             }
            },
            "header": {
             "fill": {
              "color": "#C8D4E3"
             },
             "line": {
              "color": "white"
             }
            },
            "type": "table"
           }
          ]
         },
         "layout": {
          "annotationdefaults": {
           "arrowcolor": "#2a3f5f",
           "arrowhead": 0,
           "arrowwidth": 1
          },
          "autotypenumbers": "strict",
          "coloraxis": {
           "colorbar": {
            "outlinewidth": 0,
            "ticks": ""
           }
          },
          "colorscale": {
           "diverging": [
            [
             0,
             "#8e0152"
            ],
            [
             0.1,
             "#c51b7d"
            ],
            [
             0.2,
             "#de77ae"
            ],
            [
             0.3,
             "#f1b6da"
            ],
            [
             0.4,
             "#fde0ef"
            ],
            [
             0.5,
             "#f7f7f7"
            ],
            [
             0.6,
             "#e6f5d0"
            ],
            [
             0.7,
             "#b8e186"
            ],
            [
             0.8,
             "#7fbc41"
            ],
            [
             0.9,
             "#4d9221"
            ],
            [
             1,
             "#276419"
            ]
           ],
           "sequential": [
            [
             0,
             "#0d0887"
            ],
            [
             0.1111111111111111,
             "#46039f"
            ],
            [
             0.2222222222222222,
             "#7201a8"
            ],
            [
             0.3333333333333333,
             "#9c179e"
            ],
            [
             0.4444444444444444,
             "#bd3786"
            ],
            [
             0.5555555555555556,
             "#d8576b"
            ],
            [
             0.6666666666666666,
             "#ed7953"
            ],
            [
             0.7777777777777778,
             "#fb9f3a"
            ],
            [
             0.8888888888888888,
             "#fdca26"
            ],
            [
             1,
             "#f0f921"
            ]
           ],
           "sequentialminus": [
            [
             0,
             "#0d0887"
            ],
            [
             0.1111111111111111,
             "#46039f"
            ],
            [
             0.2222222222222222,
             "#7201a8"
            ],
            [
             0.3333333333333333,
             "#9c179e"
            ],
            [
             0.4444444444444444,
             "#bd3786"
            ],
            [
             0.5555555555555556,
             "#d8576b"
            ],
            [
             0.6666666666666666,
             "#ed7953"
            ],
            [
             0.7777777777777778,
             "#fb9f3a"
            ],
            [
             0.8888888888888888,
             "#fdca26"
            ],
            [
             1,
             "#f0f921"
            ]
           ]
          },
          "colorway": [
           "#636efa",
           "#EF553B",
           "#00cc96",
           "#ab63fa",
           "#FFA15A",
           "#19d3f3",
           "#FF6692",
           "#B6E880",
           "#FF97FF",
           "#FECB52"
          ],
          "font": {
           "color": "#2a3f5f"
          },
          "geo": {
           "bgcolor": "white",
           "lakecolor": "white",
           "landcolor": "#E5ECF6",
           "showlakes": true,
           "showland": true,
           "subunitcolor": "white"
          },
          "hoverlabel": {
           "align": "left"
          },
          "hovermode": "closest",
          "mapbox": {
           "style": "light"
          },
          "paper_bgcolor": "white",
          "plot_bgcolor": "#E5ECF6",
          "polar": {
           "angularaxis": {
            "gridcolor": "white",
            "linecolor": "white",
            "ticks": ""
           },
           "bgcolor": "#E5ECF6",
           "radialaxis": {
            "gridcolor": "white",
            "linecolor": "white",
            "ticks": ""
           }
          },
          "scene": {
           "xaxis": {
            "backgroundcolor": "#E5ECF6",
            "gridcolor": "white",
            "gridwidth": 2,
            "linecolor": "white",
            "showbackground": true,
            "ticks": "",
            "zerolinecolor": "white"
           },
           "yaxis": {
            "backgroundcolor": "#E5ECF6",
            "gridcolor": "white",
            "gridwidth": 2,
            "linecolor": "white",
            "showbackground": true,
            "ticks": "",
            "zerolinecolor": "white"
           },
           "zaxis": {
            "backgroundcolor": "#E5ECF6",
            "gridcolor": "white",
            "gridwidth": 2,
            "linecolor": "white",
            "showbackground": true,
            "ticks": "",
            "zerolinecolor": "white"
           }
          },
          "shapedefaults": {
           "line": {
            "color": "#2a3f5f"
           }
          },
          "ternary": {
           "aaxis": {
            "gridcolor": "white",
            "linecolor": "white",
            "ticks": ""
           },
           "baxis": {
            "gridcolor": "white",
            "linecolor": "white",
            "ticks": ""
           },
           "bgcolor": "#E5ECF6",
           "caxis": {
            "gridcolor": "white",
            "linecolor": "white",
            "ticks": ""
           }
          },
          "title": {
           "x": 0.05
          },
          "xaxis": {
           "automargin": true,
           "gridcolor": "white",
           "linecolor": "white",
           "ticks": "",
           "title": {
            "standoff": 15
           },
           "zerolinecolor": "white",
           "zerolinewidth": 2
          },
          "yaxis": {
           "automargin": true,
           "gridcolor": "white",
           "linecolor": "white",
           "ticks": "",
           "title": {
            "standoff": 15
           },
           "zerolinecolor": "white",
           "zerolinewidth": 2
          }
         }
        },
        "width": 2000,
        "xaxis": {
         "anchor": "y",
         "autorange": true,
         "domain": [
          0,
          1
         ],
         "range": [
          "2021-10-11 12:00",
          "2021-11-12 12:00"
         ],
         "title": {
          "text": "trx_day"
         },
         "type": "date"
        },
        "yaxis": {
         "anchor": "x",
         "autorange": true,
         "domain": [
          0,
          1
         ],
         "range": [
          0,
          50031.57894736842
         ],
         "title": {
          "text": "product_count"
         },
         "type": "linear"
        }
       }
      },
      "image/png": "[encoded data removed]",
      "text/html": [
       "<div>                            <div id=\"db2a8a9b-c46f-4709-a2eb-219a65381ac4\" class=\"plotly-graph-div\" style=\"height:600px; width:2000px;\"></div>            <script type=\"text/javascript\">                require([\"plotly\"], function(Plotly) {                    window.PLOTLYENV=window.PLOTLYENV || {};                                    if (document.getElementById(\"db2a8a9b-c46f-4709-a2eb-219a65381ac4\")) {                    Plotly.newPlot(                        \"db2a8a9b-c46f-4709-a2eb-219a65381ac4\",                        [{\"alignmentgroup\":\"True\",\"hovertemplate\":\"product_type=gift_certificate<br>trx_day=%{x}<br>product_count=%{y}<extra></extra>\",\"legendgroup\":\"gift_certificate\",\"marker\":{\"color\":\"#636efa\",\"pattern\":{\"shape\":\"\"}},\"name\":\"gift_certificate\",\"offsetgroup\":\"gift_certificate\",\"orientation\":\"v\",\"showlegend\":true,\"textposition\":\"auto\",\"type\":\"bar\",\"x\":[\"2021-10-23T00:00:00\",\"2021-11-03T00:00:00\",\"2021-10-21T00:00:00\",\"2021-10-28T00:00:00\",\"2021-11-08T00:00:00\",\"2021-11-09T00:00:00\",\"2021-10-24T00:00:00\",\"2021-10-19T00:00:00\",\"2021-11-01T00:00:00\",\"2021-11-05T00:00:00\",\"2021-11-06T00:00:00\",\"2021-10-13T00:00:00\",\"2021-11-07T00:00:00\",\"2021-10-16T00:00:00\",\"2021-10-29T00:00:00\",\"2021-10-12T00:00:00\",\"2021-10-14T00:00:00\",\"2021-10-22T00:00:00\",\"2021-10-30T00:00:00\",\"2021-10-26T00:00:00\",\"2021-10-27T00:00:00\",\"2021-11-04T00:00:00\",\"2021-10-18T00:00:00\",\"2021-11-11T00:00:00\",\"2021-11-02T00:00:00\",\"2021-10-17T00:00:00\",\"2021-11-10T00:00:00\",\"2021-10-31T00:00:00\",\"2021-10-20T00:00:00\",\"2021-11-12T00:00:00\",\"2021-10-15T00:00:00\",\"2021-10-25T00:00:00\"],\"xaxis\":\"x\",\"y\":[11,1,11,7,7,11,6,2,10,4,4,6,4,3,15,15,6,8,7,3,5,3,5,6,10,3,8,4,13,1,6,12],\"yaxis\":\"y\"},{\"alignmentgroup\":\"True\",\"hovertemplate\":\"product_type=free_refund<br>trx_day=%{x}<br>product_count=%{y}<extra></extra>\",\"legendgroup\":\"free_refund\",\"marker\":{\"color\":\"#EF553B\",\"pattern\":{\"shape\":\"\"}},\"name\":\"free_refund\",\"offsetgroup\":\"free_refund\",\"orientation\":\"v\",\"showlegend\":true,\"textposition\":\"auto\",\"type\":\"bar\",\"x\":[\"2021-10-29T00:00:00\",\"2021-10-16T00:00:00\",\"2021-11-04T00:00:00\",\"2021-10-27T00:00:00\",\"2021-11-05T00:00:00\",\"2021-10-31T00:00:00\",\"2021-10-15T00:00:00\",\"2021-11-01T00:00:00\",\"2021-10-19T00:00:00\",\"2021-10-28T00:00:00\",\"2021-10-25T00:00:00\",\"2021-10-13T00:00:00\",\"2021-10-17T00:00:00\",\"2021-10-14T00:00:00\",\"2021-10-12T00:00:00\",\"2021-11-02T00:00:00\",\"2021-10-20T00:00:00\",\"2021-11-09T00:00:00\",\"2021-10-23T00:00:00\",\"2021-10-22T00:00:00\",\"2021-11-11T00:00:00\",\"2021-11-07T00:00:00\",\"2021-11-12T00:00:00\",\"2021-10-30T00:00:00\",\"2021-10-24T00:00:00\",\"2021-10-21T00:00:00\",\"2021-11-06T00:00:00\",\"2021-10-18T00:00:00\",\"2021-10-26T00:00:00\",\"2021-11-10T00:00:00\",\"2021-11-08T00:00:00\",\"2021-11-03T00:00:00\"],\"xaxis\":\"x\",\"y\":[1014,984,750,1048,666,743,1135,986,1254,1078,1037,1143,994,1269,1066,1147,1323,2655,834,1185,2807,853,686,871,881,1383,828,1205,1176,2680,1006,1107],\"yaxis\":\"y\"},{\"alignmentgroup\":\"True\",\"hovertemplate\":\"product_type=lounge<br>trx_day=%{x}<br>product_count=%{y}<extra></extra>\",\"legendgroup\":\"lounge\",\"marker\":{\"color\":\"#00cc96\",\"pattern\":{\"shape\":\"\"}},\"name\":\"lounge\",\"offsetgroup\":\"lounge\",\"orientation\":\"v\",\"showlegend\":true,\"textposition\":\"auto\",\"type\":\"bar\",\"x\":[\"2021-10-18T00:00:00\",\"2021-10-17T00:00:00\",\"2021-11-12T00:00:00\",\"2021-11-11T00:00:00\",\"2021-11-08T00:00:00\",\"2021-10-23T00:00:00\",\"2021-10-12T00:00:00\",\"2021-11-01T00:00:00\",\"2021-11-07T00:00:00\",\"2021-10-31T00:00:00\",\"2021-10-26T00:00:00\",\"2021-10-22T00:00:00\",\"2021-11-03T00:00:00\",\"2021-11-10T00:00:00\",\"2021-10-13T00:00:00\",\"2021-10-15T00:00:00\",\"2021-10-16T00:00:00\",\"2021-10-21T00:00:00\",\"2021-10-30T00:00:00\",\"2021-10-25T00:00:00\",\"2021-10-27T00:00:00\",\"2021-11-05T00:00:00\",\"2021-10-19T00:00:00\",\"2021-10-20T00:00:00\",\"2021-11-04T00:00:00\",\"2021-11-09T00:00:00\",\"2021-10-24T00:00:00\",\"2021-10-29T00:00:00\",\"2021-10-14T00:00:00\",\"2021-10-28T00:00:00\",\"2021-11-02T00:00:00\",\"2021-11-06T00:00:00\"],\"xaxis\":\"x\",\"y\":[68,65,28,76,45,59,68,61,66,50,50,69,72,63,54,75,52,74,52,62,62,63,49,63,48,80,66,79,73,87,71,54],\"yaxis\":\"y\"},{\"alignmentgroup\":\"True\",\"hovertemplate\":\"product_type=seat<br>trx_day=%{x}<br>product_count=%{y}<extra></extra>\",\"legendgroup\":\"seat\",\"marker\":{\"color\":\"#ab63fa\",\"pattern\":{\"shape\":\"\"}},\"name\":\"seat\",\"offsetgroup\":\"seat\",\"orientation\":\"v\",\"showlegend\":true,\"textposition\":\"auto\",\"type\":\"bar\",\"x\":[\"2021-11-08T00:00:00\",\"2021-10-13T00:00:00\",\"2021-11-01T00:00:00\",\"2021-10-17T00:00:00\",\"2021-10-31T00:00:00\",\"2021-10-29T00:00:00\",\"2021-11-12T00:00:00\",\"2021-10-22T00:00:00\",\"2021-10-25T00:00:00\",\"2021-11-11T00:00:00\",\"2021-11-04T00:00:00\",\"2021-11-06T00:00:00\",\"2021-11-10T00:00:00\",\"2021-11-05T00:00:00\",\"2021-10-24T00:00:00\",\"2021-11-03T00:00:00\",\"2021-10-20T00:00:00\",\"2021-10-30T00:00:00\",\"2021-10-18T00:00:00\",\"2021-10-15T00:00:00\",\"2021-11-09T00:00:00\",\"2021-10-26T00:00:00\",\"2021-10-19T00:00:00\",\"2021-10-21T00:00:00\",\"2021-10-23T00:00:00\",\"2021-10-12T00:00:00\",\"2021-10-16T00:00:00\",\"2021-11-02T00:00:00\",\"2021-11-07T00:00:00\",\"2021-10-28T00:00:00\",\"2021-10-14T00:00:00\",\"2021-10-27T00:00:00\"],\"xaxis\":\"x\",\"y\":[15471,18922,14868,15285,11608,14743,9615,17802,16578,36366,13522,11547,32686,12264,13002,16040,19620,12729,20435,17305,30252,15000,19364,19290,13440,18886,14453,15686,11827,15099,19120,14653],\"yaxis\":\"y\"},{\"alignmentgroup\":\"True\",\"hovertemplate\":\"product_type=extra_seat<br>trx_day=%{x}<br>product_count=%{y}<extra></extra>\",\"legendgroup\":\"extra_seat\",\"marker\":{\"color\":\"#FFA15A\",\"pattern\":{\"shape\":\"\"}},\"name\":\"extra_seat\",\"offsetgroup\":\"extra_seat\",\"orientation\":\"v\",\"showlegend\":true,\"textposition\":\"auto\",\"type\":\"bar\",\"x\":[\"2021-10-14T00:00:00\",\"2021-10-23T00:00:00\",\"2021-10-21T00:00:00\",\"2021-10-26T00:00:00\",\"2021-11-09T00:00:00\",\"2021-10-18T00:00:00\",\"2021-11-03T00:00:00\",\"2021-11-05T00:00:00\",\"2021-11-08T00:00:00\",\"2021-11-11T00:00:00\",\"2021-10-16T00:00:00\",\"2021-10-15T00:00:00\",\"2021-10-13T00:00:00\",\"2021-10-20T00:00:00\",\"2021-10-22T00:00:00\",\"2021-10-25T00:00:00\",\"2021-11-02T00:00:00\",\"2021-11-10T00:00:00\",\"2021-10-27T00:00:00\",\"2021-10-30T00:00:00\",\"2021-10-19T00:00:00\",\"2021-10-24T00:00:00\",\"2021-10-12T00:00:00\",\"2021-11-04T00:00:00\",\"2021-10-28T00:00:00\",\"2021-11-01T00:00:00\"],\"xaxis\":\"x\",\"y\":[8,4,5,7,1,3,1,1,11,3,5,6,5,2,3,10,2,4,5,1,6,2,4,5,2,4],\"yaxis\":\"y\"},{\"alignmentgroup\":\"True\",\"hovertemplate\":\"product_type=pet<br>trx_day=%{x}<br>product_count=%{y}<extra></extra>\",\"legendgroup\":\"pet\",\"marker\":{\"color\":\"#19d3f3\",\"pattern\":{\"shape\":\"\"}},\"name\":\"pet\",\"offsetgroup\":\"pet\",\"orientation\":\"v\",\"showlegend\":true,\"textposition\":\"auto\",\"type\":\"bar\",\"x\":[\"2021-10-21T00:00:00\",\"2021-11-11T00:00:00\",\"2021-10-14T00:00:00\",\"2021-10-24T00:00:00\",\"2021-10-29T00:00:00\",\"2021-10-18T00:00:00\",\"2021-10-30T00:00:00\",\"2021-10-19T00:00:00\",\"2021-11-01T00:00:00\",\"2021-10-20T00:00:00\",\"2021-11-10T00:00:00\",\"2021-11-04T00:00:00\",\"2021-11-05T00:00:00\",\"2021-10-26T00:00:00\",\"2021-10-15T00:00:00\",\"2021-10-31T00:00:00\",\"2021-11-03T00:00:00\",\"2021-10-23T00:00:00\",\"2021-11-07T00:00:00\",\"2021-10-16T00:00:00\",\"2021-10-17T00:00:00\",\"2021-10-25T00:00:00\",\"2021-10-28T00:00:00\",\"2021-10-12T00:00:00\",\"2021-11-12T00:00:00\",\"2021-10-27T00:00:00\",\"2021-11-09T00:00:00\",\"2021-10-13T00:00:00\",\"2021-11-02T00:00:00\",\"2021-11-08T00:00:00\",\"2021-10-22T00:00:00\",\"2021-11-06T00:00:00\"],\"xaxis\":\"x\",\"y\":[260,483,206,194,201,264,163,251,228,268,444,181,170,203,221,141,191,169,160,206,180,236,180,248,140,225,505,267,189,195,182,146],\"yaxis\":\"y\"},{\"alignmentgroup\":\"True\",\"hovertemplate\":\"product_type=meal<br>trx_day=%{x}<br>product_count=%{y}<extra></extra>\",\"legendgroup\":\"meal\",\"marker\":{\"color\":\"#FF6692\",\"pattern\":{\"shape\":\"\"}},\"name\":\"meal\",\"offsetgroup\":\"meal\",\"orientation\":\"v\",\"showlegend\":true,\"textposition\":\"auto\",\"type\":\"bar\",\"x\":[\"2021-11-08T00:00:00\",\"2021-10-22T00:00:00\",\"2021-11-03T00:00:00\",\"2021-10-30T00:00:00\",\"2021-10-27T00:00:00\",\"2021-10-20T00:00:00\",\"2021-10-12T00:00:00\",\"2021-10-16T00:00:00\",\"2021-11-07T00:00:00\",\"2021-11-01T00:00:00\",\"2021-11-12T00:00:00\",\"2021-10-14T00:00:00\",\"2021-10-25T00:00:00\",\"2021-10-29T00:00:00\",\"2021-11-09T00:00:00\",\"2021-11-02T00:00:00\",\"2021-11-11T00:00:00\",\"2021-11-06T00:00:00\",\"2021-11-10T00:00:00\",\"2021-10-19T00:00:00\",\"2021-10-18T00:00:00\",\"2021-10-17T00:00:00\",\"2021-10-15T00:00:00\",\"2021-10-23T00:00:00\",\"2021-10-21T00:00:00\",\"2021-10-28T00:00:00\",\"2021-10-13T00:00:00\",\"2021-10-26T00:00:00\",\"2021-10-24T00:00:00\",\"2021-11-04T00:00:00\",\"2021-11-05T00:00:00\",\"2021-10-31T00:00:00\"],\"xaxis\":\"x\",\"y\":[1267,1554,1453,1201,1348,1598,1482,1123,1043,1347,554,1603,1262,1489,1915,1362,2376,1211,2292,1601,1655,1294,1516,1133,1663,1387,1514,1209,1167,1314,1188,1095],\"yaxis\":\"y\"},{\"alignmentgroup\":\"True\",\"hovertemplate\":\"product_type=foodbox<br>trx_day=%{x}<br>product_count=%{y}<extra></extra>\",\"legendgroup\":\"foodbox\",\"marker\":{\"color\":\"#B6E880\",\"pattern\":{\"shape\":\"\"}},\"name\":\"foodbox\",\"offsetgroup\":\"foodbox\",\"orientation\":\"v\",\"showlegend\":true,\"textposition\":\"auto\",\"type\":\"bar\",\"x\":[\"2021-10-26T00:00:00\",\"2021-10-14T00:00:00\",\"2021-11-07T00:00:00\",\"2021-11-08T00:00:00\",\"2021-11-09T00:00:00\",\"2021-11-12T00:00:00\",\"2021-10-12T00:00:00\",\"2021-10-15T00:00:00\",\"2021-10-23T00:00:00\",\"2021-11-10T00:00:00\",\"2021-10-21T00:00:00\",\"2021-11-03T00:00:00\",\"2021-11-01T00:00:00\",\"2021-10-13T00:00:00\",\"2021-10-17T00:00:00\",\"2021-10-18T00:00:00\",\"2021-10-19T00:00:00\",\"2021-10-27T00:00:00\",\"2021-10-31T00:00:00\",\"2021-11-04T00:00:00\",\"2021-11-05T00:00:00\",\"2021-10-29T00:00:00\",\"2021-10-16T00:00:00\",\"2021-10-24T00:00:00\",\"2021-10-30T00:00:00\",\"2021-10-28T00:00:00\",\"2021-10-25T00:00:00\",\"2021-11-02T00:00:00\",\"2021-11-06T00:00:00\",\"2021-10-22T00:00:00\",\"2021-11-11T00:00:00\",\"2021-10-20T00:00:00\"],\"xaxis\":\"x\",\"y\":[30,28,16,24,32,8,38,31,27,32,39,34,22,36,22,22,29,40,32,36,17,35,26,22,21,39,17,55,39,25,38,40],\"yaxis\":\"y\"},{\"alignmentgroup\":\"True\",\"hovertemplate\":\"product_type=prepay<br>trx_day=%{x}<br>product_count=%{y}<extra></extra>\",\"legendgroup\":\"prepay\",\"marker\":{\"color\":\"#FF97FF\",\"pattern\":{\"shape\":\"\"}},\"name\":\"prepay\",\"offsetgroup\":\"prepay\",\"orientation\":\"v\",\"showlegend\":true,\"textposition\":\"auto\",\"type\":\"bar\",\"x\":[\"2021-10-21T00:00:00\",\"2021-10-30T00:00:00\",\"2021-10-13T00:00:00\",\"2021-10-22T00:00:00\",\"2021-11-10T00:00:00\",\"2021-10-31T00:00:00\",\"2021-10-12T00:00:00\",\"2021-11-12T00:00:00\",\"2021-11-06T00:00:00\",\"2021-10-28T00:00:00\",\"2021-10-20T00:00:00\",\"2021-10-15T00:00:00\",\"2021-11-11T00:00:00\",\"2021-10-27T00:00:00\",\"2021-10-24T00:00:00\",\"2021-11-03T00:00:00\",\"2021-10-16T00:00:00\",\"2021-10-14T00:00:00\",\"2021-11-01T00:00:00\",\"2021-10-17T00:00:00\",\"2021-10-23T00:00:00\",\"2021-11-08T00:00:00\",\"2021-11-02T00:00:00\",\"2021-10-26T00:00:00\",\"2021-11-04T00:00:00\",\"2021-10-25T00:00:00\",\"2021-10-18T00:00:00\",\"2021-10-29T00:00:00\",\"2021-11-09T00:00:00\",\"2021-11-07T00:00:00\",\"2021-11-05T00:00:00\",\"2021-10-19T00:00:00\"],\"xaxis\":\"x\",\"y\":[319,116,180,213,584,108,210,163,149,135,394,193,614,139,152,112,157,249,159,181,168,193,173,211,110,208,222,163,810,149,138,330],\"yaxis\":\"y\"},{\"alignmentgroup\":\"True\",\"hovertemplate\":\"product_type=fast_track<br>trx_day=%{x}<br>product_count=%{y}<extra></extra>\",\"legendgroup\":\"fast_track\",\"marker\":{\"color\":\"#FECB52\",\"pattern\":{\"shape\":\"\"}},\"name\":\"fast_track\",\"offsetgroup\":\"fast_track\",\"orientation\":\"v\",\"showlegend\":true,\"textposition\":\"auto\",\"type\":\"bar\",\"x\":[\"2021-10-19T00:00:00\",\"2021-10-23T00:00:00\",\"2021-10-24T00:00:00\",\"2021-10-21T00:00:00\",\"2021-11-05T00:00:00\",\"2021-10-26T00:00:00\",\"2021-11-02T00:00:00\",\"2021-10-20T00:00:00\",\"2021-10-12T00:00:00\",\"2021-11-04T00:00:00\",\"2021-10-18T00:00:00\",\"2021-11-06T00:00:00\",\"2021-10-13T00:00:00\"],\"xaxis\":\"x\",\"y\":[1,3,2,1,1,1,1,2,1,3,2,1,2],\"yaxis\":\"y\"},{\"alignmentgroup\":\"True\",\"hovertemplate\":\"product_type=bag<br>trx_day=%{x}<br>product_count=%{y}<extra></extra>\",\"legendgroup\":\"bag\",\"marker\":{\"color\":\"#636efa\",\"pattern\":{\"shape\":\"\"}},\"name\":\"bag\",\"offsetgroup\":\"bag\",\"orientation\":\"v\",\"showlegend\":true,\"textposition\":\"auto\",\"type\":\"bar\",\"x\":[\"2021-10-15T00:00:00\",\"2021-11-09T00:00:00\",\"2021-10-21T00:00:00\",\"2021-10-31T00:00:00\",\"2021-11-06T00:00:00\",\"2021-11-05T00:00:00\",\"2021-11-10T00:00:00\",\"2021-10-18T00:00:00\",\"2021-10-22T00:00:00\",\"2021-10-23T00:00:00\",\"2021-10-14T00:00:00\",\"2021-10-24T00:00:00\",\"2021-10-30T00:00:00\",\"2021-10-20T00:00:00\",\"2021-11-02T00:00:00\",\"2021-10-19T00:00:00\",\"2021-11-11T00:00:00\",\"2021-10-27T00:00:00\",\"2021-10-26T00:00:00\",\"2021-11-01T00:00:00\",\"2021-10-25T00:00:00\",\"2021-10-13T00:00:00\",\"2021-10-17T00:00:00\",\"2021-11-12T00:00:00\",\"2021-11-07T00:00:00\",\"2021-10-29T00:00:00\",\"2021-10-16T00:00:00\",\"2021-10-12T00:00:00\",\"2021-11-04T00:00:00\",\"2021-11-03T00:00:00\",\"2021-11-08T00:00:00\",\"2021-10-28T00:00:00\"],\"xaxis\":\"x\",\"y\":[2522,4168,2297,1590,1730,1861,4024,2735,2127,1692,2701,1733,1770,2341,1999,2273,4323,2134,1989,2193,2142,2933,2147,1207,1796,2170,2138,2552,2092,2018,2085,2098],\"yaxis\":\"y\"},{\"alignmentgroup\":\"True\",\"hovertemplate\":\"product_type=auto_checkin<br>trx_day=%{x}<br>product_count=%{y}<extra></extra>\",\"legendgroup\":\"auto_checkin\",\"marker\":{\"color\":\"#EF553B\",\"pattern\":{\"shape\":\"\"}},\"name\":\"auto_checkin\",\"offsetgroup\":\"auto_checkin\",\"orientation\":\"v\",\"showlegend\":true,\"textposition\":\"auto\",\"type\":\"bar\",\"x\":[\"2021-11-07T00:00:00\",\"2021-11-05T00:00:00\",\"2021-10-13T00:00:00\",\"2021-11-10T00:00:00\",\"2021-11-09T00:00:00\",\"2021-11-12T00:00:00\",\"2021-10-27T00:00:00\",\"2021-11-11T00:00:00\",\"2021-10-24T00:00:00\",\"2021-10-31T00:00:00\",\"2021-10-18T00:00:00\",\"2021-10-29T00:00:00\",\"2021-10-15T00:00:00\",\"2021-11-01T00:00:00\",\"2021-10-16T00:00:00\",\"2021-10-19T00:00:00\",\"2021-11-08T00:00:00\",\"2021-10-30T00:00:00\",\"2021-10-26T00:00:00\",\"2021-10-23T00:00:00\",\"2021-11-04T00:00:00\",\"2021-10-17T00:00:00\",\"2021-10-21T00:00:00\",\"2021-10-22T00:00:00\",\"2021-10-12T00:00:00\",\"2021-10-20T00:00:00\",\"2021-11-06T00:00:00\",\"2021-10-14T00:00:00\",\"2021-11-02T00:00:00\",\"2021-10-25T00:00:00\",\"2021-10-28T00:00:00\",\"2021-11-03T00:00:00\"],\"xaxis\":\"x\",\"y\":[188,161,280,379,376,100,234,438,189,128,320,227,301,172,243,273,217,164,172,195,148,206,266,223,265,329,128,333,243,206,242,237],\"yaxis\":\"y\"}],                        {\"barmode\":\"relative\",\"height\":600,\"legend\":{\"title\":{\"text\":\"product_type\"},\"tracegroupgap\":0},\"margin\":{\"t\":60},\"template\":{\"data\":{\"bar\":[{\"error_x\":{\"color\":\"#2a3f5f\"},\"error_y\":{\"color\":\"#2a3f5f\"},\"marker\":{\"line\":{\"color\":\"#E5ECF6\",\"width\":0.5},\"pattern\":{\"fillmode\":\"overlay\",\"size\":10,\"solidity\":0.2}},\"type\":\"bar\"}],\"barpolar\":[{\"marker\":{\"line\":{\"color\":\"#E5ECF6\",\"width\":0.5},\"pattern\":{\"fillmode\":\"overlay\",\"size\":10,\"solidity\":0.2}},\"type\":\"barpolar\"}],\"carpet\":[{\"aaxis\":{\"endlinecolor\":\"#2a3f5f\",\"gridcolor\":\"white\",\"linecolor\":\"white\",\"minorgridcolor\":\"white\",\"startlinecolor\":\"#2a3f5f\"},\"baxis\":{\"endlinecolor\":\"#2a3f5f\",\"gridcolor\":\"white\",\"linecolor\":\"white\",\"minorgridcolor\":\"white\",\"startlinecolor\":\"#2a3f5f\"},\"type\":\"carpet\"}],\"choropleth\":[{\"colorbar\":{\"outlinewidth\":0,\"ticks\":\"\"},\"type\":\"choropleth\"}],\"contour\":[{\"colorbar\":{\"outlinewidth\":0,\"ticks\":\"\"},\"colorscale\":[[0.0,\"#0d0887\"],[0.1111111111111111,\"#46039f\"],[0.2222222222222222,\"#7201a8\"],[0.3333333333333333,\"#9c179e\"],[0.4444444444444444,\"#bd3786\"],[0.5555555555555556,\"#d8576b\"],[0.6666666666666666,\"#ed7953\"],[0.7777777777777778,\"#fb9f3a\"],[0.8888888888888888,\"#fdca26\"],[1.0,\"#f0f921\"]],\"type\":\"contour\"}],\"contourcarpet\":[{\"colorbar\":{\"outlinewidth\":0,\"ticks\":\"\"},\"type\":\"contourcarpet\"}],\"heatmap\":[{\"colorbar\":{\"outlinewidth\":0,\"ticks\":\"\"},\"colorscale\":[[0.0,\"#0d0887\"],[0.1111111111111111,\"#46039f\"],[0.2222222222222222,\"#7201a8\"],[0.3333333333333333,\"#9c179e\"],[0.4444444444444444,\"#bd3786\"],[0.5555555555555556,\"#d8576b\"],[0.6666666666666666,\"#ed7953\"],[0.7777777777777778,\"#fb9f3a\"],[0.8888888888888888,\"#fdca26\"],[1.0,\"#f0f921\"]],\"type\":\"heatmap\"}],\"heatmapgl\":[{\"colorbar\":{\"outlinewidth\":0,\"ticks\":\"\"},\"colorscale\":[[0.0,\"#0d0887\"],[0.1111111111111111,\"#46039f\"],[0.2222222222222222,\"#7201a8\"],[0.3333333333333333,\"#9c179e\"],[0.4444444444444444,\"#bd3786\"],[0.5555555555555556,\"#d8576b\"],[0.6666666666666666,\"#ed7953\"],[0.7777777777777778,\"#fb9f3a\"],[0.8888888888888888,\"#fdca26\"],[1.0,\"#f0f921\"]],\"type\":\"heatmapgl\"}],\"histogram\":[{\"marker\":{\"pattern\":{\"fillmode\":\"overlay\",\"size\":10,\"solidity\":0.2}},\"type\":\"histogram\"}],\"histogram2d\":[{\"colorbar\":{\"outlinewidth\":0,\"ticks\":\"\"},\"colorscale\":[[0.0,\"#0d0887\"],[0.1111111111111111,\"#46039f\"],[0.2222222222222222,\"#7201a8\"],[0.3333333333333333,\"#9c179e\"],[0.4444444444444444,\"#bd3786\"],[0.5555555555555556,\"#d8576b\"],[0.6666666666666666,\"#ed7953\"],[0.7777777777777778,\"#fb9f3a\"],[0.8888888888888888,\"#fdca26\"],[1.0,\"#f0f921\"]],\"type\":\"histogram2d\"}],\"histogram2dcontour\":[{\"colorbar\":{\"outlinewidth\":0,\"ticks\":\"\"},\"colorscale\":[[0.0,\"#0d0887\"],[0.1111111111111111,\"#46039f\"],[0.2222222222222222,\"#7201a8\"],[0.3333333333333333,\"#9c179e\"],[0.4444444444444444,\"#bd3786\"],[0.5555555555555556,\"#d8576b\"],[0.6666666666666666,\"#ed7953\"],[0.7777777777777778,\"#fb9f3a\"],[0.8888888888888888,\"#fdca26\"],[1.0,\"#f0f921\"]],\"type\":\"histogram2dcontour\"}],\"mesh3d\":[{\"colorbar\":{\"outlinewidth\":0,\"ticks\":\"\"},\"type\":\"mesh3d\"}],\"parcoords\":[{\"line\":{\"colorbar\":{\"outlinewidth\":0,\"ticks\":\"\"}},\"type\":\"parcoords\"}],\"pie\":[{\"automargin\":true,\"type\":\"pie\"}],\"scatter\":[{\"marker\":{\"colorbar\":{\"outlinewidth\":0,\"ticks\":\"\"}},\"type\":\"scatter\"}],\"scatter3d\":[{\"line\":{\"colorbar\":{\"outlinewidth\":0,\"ticks\":\"\"}},\"marker\":{\"colorbar\":{\"outlinewidth\":0,\"ticks\":\"\"}},\"type\":\"scatter3d\"}],\"scattercarpet\":[{\"marker\":{\"colorbar\":{\"outlinewidth\":0,\"ticks\":\"\"}},\"type\":\"scattercarpet\"}],\"scattergeo\":[{\"marker\":{\"colorbar\":{\"outlinewidth\":0,\"ticks\":\"\"}},\"type\":\"scattergeo\"}],\"scattergl\":[{\"marker\":{\"colorbar\":{\"outlinewidth\":0,\"ticks\":\"\"}},\"type\":\"scattergl\"}],\"scattermapbox\":[{\"marker\":{\"colorbar\":{\"outlinewidth\":0,\"ticks\":\"\"}},\"type\":\"scattermapbox\"}],\"scatterpolar\":[{\"marker\":{\"colorbar\":{\"outlinewidth\":0,\"ticks\":\"\"}},\"type\":\"scatterpolar\"}],\"scatterpolargl\":[{\"marker\":{\"colorbar\":{\"outlinewidth\":0,\"ticks\":\"\"}},\"type\":\"scatterpolargl\"}],\"scatterternary\":[{\"marker\":{\"colorbar\":{\"outlinewidth\":0,\"ticks\":\"\"}},\"type\":\"scatterternary\"}],\"surface\":[{\"colorbar\":{\"outlinewidth\":0,\"ticks\":\"\"},\"colorscale\":[[0.0,\"#0d0887\"],[0.1111111111111111,\"#46039f\"],[0.2222222222222222,\"#7201a8\"],[0.3333333333333333,\"#9c179e\"],[0.4444444444444444,\"#bd3786\"],[0.5555555555555556,\"#d8576b\"],[0.6666666666666666,\"#ed7953\"],[0.7777777777777778,\"#fb9f3a\"],[0.8888888888888888,\"#fdca26\"],[1.0,\"#f0f921\"]],\"type\":\"surface\"}],\"table\":[{\"cells\":{\"fill\":{\"color\":\"#EBF0F8\"},\"line\":{\"color\":\"white\"}},\"header\":{\"fill\":{\"color\":\"#C8D4E3\"},\"line\":{\"color\":\"white\"}},\"type\":\"table\"}]},\"layout\":{\"annotationdefaults\":{\"arrowcolor\":\"#2a3f5f\",\"arrowhead\":0,\"arrowwidth\":1},\"autotypenumbers\":\"strict\",\"coloraxis\":{\"colorbar\":{\"outlinewidth\":0,\"ticks\":\"\"}},\"colorscale\":{\"diverging\":[[0,\"#8e0152\"],[0.1,\"#c51b7d\"],[0.2,\"#de77ae\"],[0.3,\"#f1b6da\"],[0.4,\"#fde0ef\"],[0.5,\"#f7f7f7\"],[0.6,\"#e6f5d0\"],[0.7,\"#b8e186\"],[0.8,\"#7fbc41\"],[0.9,\"#4d9221\"],[1,\"#276419\"]],\"sequential\":[[0.0,\"#0d0887\"],[0.1111111111111111,\"#46039f\"],[0.2222222222222222,\"#7201a8\"],[0.3333333333333333,\"#9c179e\"],[0.4444444444444444,\"#bd3786\"],[0.5555555555555556,\"#d8576b\"],[0.6666666666666666,\"#ed7953\"],[0.7777777777777778,\"#fb9f3a\"],[0.8888888888888888,\"#fdca26\"],[1.0,\"#f0f921\"]],\"sequentialminus\":[[0.0,\"#0d0887\"],[0.1111111111111111,\"#46039f\"],[0.2222222222222222,\"#7201a8\"],[0.3333333333333333,\"#9c179e\"],[0.4444444444444444,\"#bd3786\"],[0.5555555555555556,\"#d8576b\"],[0.6666666666666666,\"#ed7953\"],[0.7777777777777778,\"#fb9f3a\"],[0.8888888888888888,\"#fdca26\"],[1.0,\"#f0f921\"]]},\"colorway\":[\"#636efa\",\"#EF553B\",\"#00cc96\",\"#ab63fa\",\"#FFA15A\",\"#19d3f3\",\"#FF6692\",\"#B6E880\",\"#FF97FF\",\"#FECB52\"],\"font\":{\"color\":\"#2a3f5f\"},\"geo\":{\"bgcolor\":\"white\",\"lakecolor\":\"white\",\"landcolor\":\"#E5ECF6\",\"showlakes\":true,\"showland\":true,\"subunitcolor\":\"white\"},\"hoverlabel\":{\"align\":\"left\"},\"hovermode\":\"closest\",\"mapbox\":{\"style\":\"light\"},\"paper_bgcolor\":\"white\",\"plot_bgcolor\":\"#E5ECF6\",\"polar\":{\"angularaxis\":{\"gridcolor\":\"white\",\"linecolor\":\"white\",\"ticks\":\"\"},\"bgcolor\":\"#E5ECF6\",\"radialaxis\":{\"gridcolor\":\"white\",\"linecolor\":\"white\",\"ticks\":\"\"}},\"scene\":{\"xaxis\":{\"backgroundcolor\":\"#E5ECF6\",\"gridcolor\":\"white\",\"gridwidth\":2,\"linecolor\":\"white\",\"showbackground\":true,\"ticks\":\"\",\"zerolinecolor\":\"white\"},\"yaxis\":{\"backgroundcolor\":\"#E5ECF6\",\"gridcolor\":\"white\",\"gridwidth\":2,\"linecolor\":\"white\",\"showbackground\":true,\"ticks\":\"\",\"zerolinecolor\":\"white\"},\"zaxis\":{\"backgroundcolor\":\"#E5ECF6\",\"gridcolor\":\"white\",\"gridwidth\":2,\"linecolor\":\"white\",\"showbackground\":true,\"ticks\":\"\",\"zerolinecolor\":\"white\"}},\"shapedefaults\":{\"line\":{\"color\":\"#2a3f5f\"}},\"ternary\":{\"aaxis\":{\"gridcolor\":\"white\",\"linecolor\":\"white\",\"ticks\":\"\"},\"baxis\":{\"gridcolor\":\"white\",\"linecolor\":\"white\",\"ticks\":\"\"},\"bgcolor\":\"#E5ECF6\",\"caxis\":{\"gridcolor\":\"white\",\"linecolor\":\"white\",\"ticks\":\"\"}},\"title\":{\"x\":0.05},\"xaxis\":{\"automargin\":true,\"gridcolor\":\"white\",\"linecolor\":\"white\",\"ticks\":\"\",\"title\":{\"standoff\":15},\"zerolinecolor\":\"white\",\"zerolinewidth\":2},\"yaxis\":{\"automargin\":true,\"gridcolor\":\"white\",\"linecolor\":\"white\",\"ticks\":\"\",\"title\":{\"standoff\":15},\"zerolinecolor\":\"white\",\"zerolinewidth\":2}}},\"width\":2000,\"xaxis\":{\"anchor\":\"y\",\"domain\":[0.0,1.0],\"title\":{\"text\":\"trx_day\"}},\"yaxis\":{\"anchor\":\"x\",\"domain\":[0.0,1.0],\"title\":{\"text\":\"product_count\"}}},                        {\"responsive\": true}                    ).then(function(){\n",
       "                            \n",
       "var gd = document.getElementById('db2a8a9b-c46f-4709-a2eb-219a65381ac4');\n",
       "var x = new MutationObserver(function (mutations, observer) {{\n",
       "        var display = window.getComputedStyle(gd).display;\n",
       "        if (!display || display === 'none') {{\n",
       "            console.log([gd, 'removed!']);\n",
       "            Plotly.purge(gd);\n",
       "            observer.disconnect();\n",
       "        }}\n",
       "}});\n",
       "\n",
       "// Listen for the removal of the full notebook cells\n",
       "var notebookContainer = gd.closest('#notebook-container');\n",
       "if (notebookContainer) {{\n",
       "    x.observe(notebookContainer, {childList: true});\n",
       "}}\n",
       "\n",
       "// Listen for the clearing of the current output cell\n",
       "var outputEl = gd.closest('.output');\n",
       "if (outputEl) {{\n",
       "    x.observe(outputEl, {childList: true});\n",
       "}}\n",
       "\n",
       "                        })                };                });            </script>        </div>"
      ]
     },
     "metadata": {},
     "output_type": "display_data"
    }
   ],
   "source": [
    "import plotly.express as px\n",
    "long_df = px.data.medals_long()\n",
    "fig = px.bar(df, x=\"trx_day\", y=\"product_count\", color=\"product_type\",  width=2000, height=600)\n",
    "fig.update_layout(\n",
    ")\n",
    "    \n",
    "fig.show()"
   ]
  },
  {
   "cell_type": "code",
   "execution_count": 10,
   "id": "bc16c65f-bf79-4372-bf3b-8d251ddf86c9",
   "metadata": {},
   "outputs": [
    {
     "data": {
      "text/plain": [
       "<AxesSubplot:xlabel='trx_day', ylabel='product_count'>"
      ]
     },
     "execution_count": 10,
     "metadata": {},
     "output_type": "execute_result"
    },
    {
     "data": {
      "image/png": "[encoded data removed]",
      "text/plain": [
       "<Figure size 2160x648 with 1 Axes>"
      ]
     },
     "metadata": {
      "needs_background": "light"
     },
     "output_type": "display_data"
    }
   ],
   "source": [
    "plt.figure(figsize=(30,9))\n",
    "sns.barplot(data=df, x='trx_day', y='product_count', hue='product_type')"
   ]
  },
  {
   "cell_type": "code",
   "execution_count": null,
   "id": "4e217eee-f85c-4d82-914d-b03f99b83816",
   "metadata": {},
   "outputs": [],
   "source": []
  },
  {
   "cell_type": "code",
   "execution_count": null,
   "id": "d53f3c4a-521c-4435-9183-593e8348d300",
   "metadata": {},
   "outputs": [],
   "source": []
  }
 ],
 "metadata": {
  "kernelspec": {
   "display_name": "Python 3",
   "language": "python",
   "name": "python3"
  },
  "language_info": {
   "codemirror_mode": {
    "name": "ipython",
    "version": 3
   },
   "file_extension": ".py",
   "mimetype": "text/x-python",
   "name": "python",
   "nbconvert_exporter": "python",
   "pygments_lexer": "ipython3",
   "version": "3.9.6"
  }
 },
 "nbformat": 4,
 "nbformat_minor": 5
}
